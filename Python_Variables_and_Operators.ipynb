{
  "nbformat": 4,
  "nbformat_minor": 0,
  "metadata": {
    "colab": {
      "name": "Python: Variables and Operators.ipynb",
      "provenance": [],
      "authorship_tag": "ABX9TyP+t08VU1IXNZ+wTBl8hBvz",
      "include_colab_link": true
    },
    "kernelspec": {
      "name": "python3",
      "display_name": "Python 3"
    },
    "language_info": {
      "name": "python"
    }
  },
  "cells": [
    {
      "cell_type": "markdown",
      "metadata": {
        "id": "view-in-github",
        "colab_type": "text"
      },
      "source": [
        "<a href=\"https://colab.research.google.com/github/IsisGuedes/ironhack-data-analytics/blob/main/Python_Variables_and_Operators.ipynb\" target=\"_parent\"><img src=\"https://colab.research.google.com/assets/colab-badge.svg\" alt=\"Open In Colab\"/></a>"
      ]
    },
    {
      "cell_type": "markdown",
      "source": [
        "# 1. Exercise - Variables"
      ],
      "metadata": {
        "id": "mH7zT6bkrupb"
      }
    },
    {
      "cell_type": "markdown",
      "source": [
        "1.1 For the following variables, use the function type() from Python to check the data type for the variables."
      ],
      "metadata": {
        "id": "LRY3XhxurKcw"
      }
    },
    {
      "cell_type": "code",
      "execution_count": 1,
      "metadata": {
        "id": "CfY_PP6iqvup"
      },
      "outputs": [],
      "source": [
        "x1 = 1.1\n",
        "x2 = \"Ironhack\"\n",
        "x3 = \"1.1\"\n",
        "x4 = True\n",
        "x5 = \"True\"\n",
        "x6 = -1"
      ]
    },
    {
      "cell_type": "code",
      "source": [
        "type(x6)"
      ],
      "metadata": {
        "colab": {
          "base_uri": "https://localhost:8080/"
        },
        "id": "T0ySKc9fsBwC",
        "outputId": "37b75f72-0c74-4463-a47a-bb4e3d9bb463"
      },
      "execution_count": 13,
      "outputs": [
        {
          "output_type": "execute_result",
          "data": {
            "text/plain": [
              "int"
            ]
          },
          "metadata": {},
          "execution_count": 13
        }
      ]
    },
    {
      "cell_type": "markdown",
      "source": [
        "1.2 What is the difference between variables x1 and x3?"
      ],
      "metadata": {
        "id": "4y9bj7uFrNee"
      }
    },
    {
      "cell_type": "code",
      "source": [
        "type(x1)"
      ],
      "metadata": {
        "colab": {
          "base_uri": "https://localhost:8080/"
        },
        "id": "cGcU8HrHrWbp",
        "outputId": "5a596e34-7a40-47d0-ee18-af1248b3f325"
      },
      "execution_count": 9,
      "outputs": [
        {
          "output_type": "execute_result",
          "data": {
            "text/plain": [
              "float"
            ]
          },
          "metadata": {},
          "execution_count": 9
        }
      ]
    },
    {
      "cell_type": "code",
      "source": [
        "type(x3)"
      ],
      "metadata": {
        "colab": {
          "base_uri": "https://localhost:8080/"
        },
        "id": "EbDMyHkLsr8O",
        "outputId": "5f510522-1ad8-4359-b1b0-6c708084cd05"
      },
      "execution_count": 10,
      "outputs": [
        {
          "output_type": "execute_result",
          "data": {
            "text/plain": [
              "str"
            ]
          },
          "metadata": {},
          "execution_count": 10
        }
      ]
    },
    {
      "cell_type": "markdown",
      "source": [
        "1.3 What happens if you subtract x3 from x1?\n"
      ],
      "metadata": {
        "id": "N0K32-WxreRi"
      }
    },
    {
      "cell_type": "code",
      "source": [
        "x3 - x1"
      ],
      "metadata": {
        "colab": {
          "base_uri": "https://localhost:8080/",
          "height": 164
        },
        "id": "8Qeh9hZOrXmX",
        "outputId": "0b817215-400f-440b-f472-5a4ce00e77ee"
      },
      "execution_count": 6,
      "outputs": [
        {
          "output_type": "error",
          "ename": "TypeError",
          "evalue": "ignored",
          "traceback": [
            "\u001b[0;31m---------------------------------------------------------------------------\u001b[0m",
            "\u001b[0;31mTypeError\u001b[0m                                 Traceback (most recent call last)",
            "\u001b[0;32m<ipython-input-6-e56b5c9f5814>\u001b[0m in \u001b[0;36m<module>\u001b[0;34m()\u001b[0m\n\u001b[0;32m----> 1\u001b[0;31m \u001b[0mx3\u001b[0m \u001b[0;34m-\u001b[0m \u001b[0mx1\u001b[0m\u001b[0;34m\u001b[0m\u001b[0;34m\u001b[0m\u001b[0m\n\u001b[0m",
            "\u001b[0;31mTypeError\u001b[0m: unsupported operand type(s) for -: 'str' and 'float'"
          ]
        }
      ]
    },
    {
      "cell_type": "markdown",
      "source": [
        "1.4 What is the difference between variables x4 and x5?"
      ],
      "metadata": {
        "id": "L7VGThjMrkGS"
      }
    },
    {
      "cell_type": "code",
      "source": [
        "type(x4)"
      ],
      "metadata": {
        "colab": {
          "base_uri": "https://localhost:8080/"
        },
        "id": "R0nfRynArkpR",
        "outputId": "bc6be288-b2b2-4c90-94c8-83d6854e3fe3"
      },
      "execution_count": 11,
      "outputs": [
        {
          "output_type": "execute_result",
          "data": {
            "text/plain": [
              "bool"
            ]
          },
          "metadata": {},
          "execution_count": 11
        }
      ]
    },
    {
      "cell_type": "code",
      "source": [
        "type(x5)"
      ],
      "metadata": {
        "colab": {
          "base_uri": "https://localhost:8080/"
        },
        "id": "TDVyoGtvs5I1",
        "outputId": "dd77b561-01a7-4cea-85f8-7f4a10b8a87b"
      },
      "execution_count": 12,
      "outputs": [
        {
          "output_type": "execute_result",
          "data": {
            "text/plain": [
              "str"
            ]
          },
          "metadata": {},
          "execution_count": 12
        }
      ]
    },
    {
      "cell_type": "markdown",
      "source": [
        "1.5 What happens if you subtract x5 from x4?"
      ],
      "metadata": {
        "id": "7Cy-7tgJrk7T"
      }
    },
    {
      "cell_type": "code",
      "source": [
        "x5 - x4"
      ],
      "metadata": {
        "colab": {
          "base_uri": "https://localhost:8080/",
          "height": 164
        },
        "id": "IaYULRvHrljF",
        "outputId": "61961e03-2e1f-4716-8d79-375e61b85ed5"
      },
      "execution_count": 8,
      "outputs": [
        {
          "output_type": "error",
          "ename": "TypeError",
          "evalue": "ignored",
          "traceback": [
            "\u001b[0;31m---------------------------------------------------------------------------\u001b[0m",
            "\u001b[0;31mTypeError\u001b[0m                                 Traceback (most recent call last)",
            "\u001b[0;32m<ipython-input-8-e24937eeaf59>\u001b[0m in \u001b[0;36m<module>\u001b[0;34m()\u001b[0m\n\u001b[0;32m----> 1\u001b[0;31m \u001b[0mx5\u001b[0m \u001b[0;34m-\u001b[0m \u001b[0mx4\u001b[0m\u001b[0;34m\u001b[0m\u001b[0;34m\u001b[0m\u001b[0m\n\u001b[0m",
            "\u001b[0;31mTypeError\u001b[0m: unsupported operand type(s) for -: 'str' and 'bool'"
          ]
        }
      ]
    },
    {
      "cell_type": "markdown",
      "source": [
        "# 2. Exercise - Operators"
      ],
      "metadata": {
        "id": "pLBiI7E_tMC_"
      }
    },
    {
      "cell_type": "markdown",
      "source": [
        "2.1 In this problem we will show you how to take a user input. To gather input from the user, we can use the function input(message), where “message” is a meaningful message of type str and will be displayed to the user.\n",
        "Use the code and then answer the questions that follow:"
      ],
      "metadata": {
        "id": "-fhPrEVptGhn"
      }
    },
    {
      "cell_type": "code",
      "source": [
        "x1 = input(\"Please enter an integer number: \")\n",
        "x2 = input(\"Please enter another integer number: \")"
      ],
      "metadata": {
        "colab": {
          "base_uri": "https://localhost:8080/"
        },
        "id": "rQQrPB-dtLE5",
        "outputId": "0f5d9496-0108-41c7-fd36-5073a61d3640"
      },
      "execution_count": 14,
      "outputs": [
        {
          "name": "stdout",
          "output_type": "stream",
          "text": [
            "Please enter an integer number: 2\n",
            "Please enter another integer number: 5\n"
          ]
        }
      ]
    },
    {
      "cell_type": "markdown",
      "source": [
        "Each input() function will be run sequentially. Each of them will display a cell box waiting for you to input a value and press intro to confirm. You can check this because on the left of the input cell you will see a star symbol as shown here telling you that the computer is waiting for you to input a value. After you input a value, the star symbol will disappear and the next input() function will be executed displaying again a cell box alongside a star symbol waiting for you to input a new value. It’s important to keep in mind that when a code cell has a star symbol, you will not be allowed to run any other cell until the star symbol disappears.\n",
        "\n",
        "Question 1: Print the values of the two variables? As you might have noticed, data type of x1 and x2 is string. Even though we entered integers, the input function converts them into string by default. Now we do some data type conversion from string to integers:"
      ],
      "metadata": {
        "id": "vf3QKl00taRN"
      }
    },
    {
      "cell_type": "code",
      "source": [
        "x1"
      ],
      "metadata": {
        "colab": {
          "base_uri": "https://localhost:8080/",
          "height": 37
        },
        "id": "0dSuJrVRumCZ",
        "outputId": "da046fdf-ad18-4878-9272-ba9370c3299d"
      },
      "execution_count": 15,
      "outputs": [
        {
          "output_type": "execute_result",
          "data": {
            "application/vnd.google.colaboratory.intrinsic+json": {
              "type": "string"
            },
            "text/plain": [
              "'2'"
            ]
          },
          "metadata": {},
          "execution_count": 15
        }
      ]
    },
    {
      "cell_type": "code",
      "source": [
        "x2"
      ],
      "metadata": {
        "colab": {
          "base_uri": "https://localhost:8080/",
          "height": 37
        },
        "id": "KUSqBYYTuuNy",
        "outputId": "43c346b6-be7e-47d5-bdf7-8901af3cc510"
      },
      "execution_count": 16,
      "outputs": [
        {
          "output_type": "execute_result",
          "data": {
            "application/vnd.google.colaboratory.intrinsic+json": {
              "type": "string"
            },
            "text/plain": [
              "'5'"
            ]
          },
          "metadata": {},
          "execution_count": 16
        }
      ]
    },
    {
      "cell_type": "code",
      "source": [
        "type(x1)"
      ],
      "metadata": {
        "colab": {
          "base_uri": "https://localhost:8080/"
        },
        "id": "EtcD7d4zuveh",
        "outputId": "4ccfa5fa-ab3a-49d4-e3b2-af5285118e1c"
      },
      "execution_count": 17,
      "outputs": [
        {
          "output_type": "execute_result",
          "data": {
            "text/plain": [
              "str"
            ]
          },
          "metadata": {},
          "execution_count": 17
        }
      ]
    },
    {
      "cell_type": "code",
      "source": [
        "x1 = int(x1) # This converts string into integer and re-initializes `x1`\n",
        "x2 = int(x2) # This converts string into integer and re-initializes `x2`"
      ],
      "metadata": {
        "id": "iDkHYxgAtctN"
      },
      "execution_count": 18,
      "outputs": []
    },
    {
      "cell_type": "markdown",
      "source": [
        "**Question 2**: What is the data type of x1 and x2? Now perform simple comparisons between x1 and x2:\n",
        "Check if the two variables are equal?\n",
        "Check if x1 is greater than x2?\n",
        "Check if x2 is greater than x1?\n",
        "Check if x1 is not equal to x2?\n",
        "Store the difference between the two variables x1 and x2 in another variable x3 (subtract the smaller number from the larger number).\n",
        "Increment the smaller of the two variables (x1 and x2) with the difference.Use the shorthand addition operator for the same. Again check if x1 and x2 are equal or not?\n",
        "\n",
        "**2.2** In the lesson, we talked about math library in Python. Here is a link to the math library documentation. Go through the documentation and try any 3 or more functions on a numerical variable that were not described in the lesson."
      ],
      "metadata": {
        "id": "4DJYve_EtfuQ"
      }
    },
    {
      "cell_type": "code",
      "source": [
        "type(x1)"
      ],
      "metadata": {
        "colab": {
          "base_uri": "https://localhost:8080/"
        },
        "id": "jP75YjkUtlgw",
        "outputId": "c429030d-0acf-405c-a168-7cf026d4a9f1"
      },
      "execution_count": 19,
      "outputs": [
        {
          "output_type": "execute_result",
          "data": {
            "text/plain": [
              "int"
            ]
          },
          "metadata": {},
          "execution_count": 19
        }
      ]
    },
    {
      "cell_type": "code",
      "source": [
        "type(x2)"
      ],
      "metadata": {
        "colab": {
          "base_uri": "https://localhost:8080/"
        },
        "id": "w7Z7MnnqvKKY",
        "outputId": "c3d83e70-f008-435d-ff2d-96100f3796b7"
      },
      "execution_count": 20,
      "outputs": [
        {
          "output_type": "execute_result",
          "data": {
            "text/plain": [
              "int"
            ]
          },
          "metadata": {},
          "execution_count": 20
        }
      ]
    },
    {
      "cell_type": "code",
      "source": [
        "if x1 == x2:\n",
        "  print (\"the two variables are equal\")\n",
        "else:\n",
        "  print(\"the two variables are different\")"
      ],
      "metadata": {
        "colab": {
          "base_uri": "https://localhost:8080/"
        },
        "id": "Xbrr9NR1vM4f",
        "outputId": "98718574-b1e4-416e-fd40-f4b8ee82db87"
      },
      "execution_count": 25,
      "outputs": [
        {
          "output_type": "stream",
          "name": "stdout",
          "text": [
            "the two variables are different\n"
          ]
        }
      ]
    },
    {
      "cell_type": "code",
      "source": [
        "if x1 > x2:\n",
        "  print (x1, \" > \", x2)\n",
        "else:\n",
        "  print(x1, \" < \", x2)"
      ],
      "metadata": {
        "colab": {
          "base_uri": "https://localhost:8080/"
        },
        "id": "vBRIMbDWvj93",
        "outputId": "b458dd7f-1a15-4535-93c5-54a7bcb4fb2b"
      },
      "execution_count": 26,
      "outputs": [
        {
          "output_type": "stream",
          "name": "stdout",
          "text": [
            "2  <  5\n"
          ]
        }
      ]
    },
    {
      "cell_type": "code",
      "source": [
        "if x1 < x2:\n",
        "  print (x1, \" < \", x2)\n",
        "else:\n",
        "  print(x1, \" > \", x2)"
      ],
      "metadata": {
        "colab": {
          "base_uri": "https://localhost:8080/"
        },
        "id": "jmOQyDZ7xIDj",
        "outputId": "b018b84e-bd63-4815-8a8f-dc01d1845dca"
      },
      "execution_count": 27,
      "outputs": [
        {
          "output_type": "stream",
          "name": "stdout",
          "text": [
            "2  <  5\n"
          ]
        }
      ]
    },
    {
      "cell_type": "code",
      "source": [
        "if x1 != x2:\n",
        "  print (x1,\" is not equal to \",x2)\n",
        "else:\n",
        "  print(x1,\" is equal to \",x2)"
      ],
      "metadata": {
        "colab": {
          "base_uri": "https://localhost:8080/"
        },
        "id": "OETVM96ZxS8r",
        "outputId": "bcc7f00f-7e4d-46f2-d4bd-9b295973e317"
      },
      "execution_count": 28,
      "outputs": [
        {
          "output_type": "stream",
          "name": "stdout",
          "text": [
            "2  is not equal to  5\n"
          ]
        }
      ]
    },
    {
      "cell_type": "code",
      "source": [
        "x3 = x1 - x2\n",
        "x3"
      ],
      "metadata": {
        "colab": {
          "base_uri": "https://localhost:8080/"
        },
        "id": "zLWzBLOTxyuH",
        "outputId": "0a28815d-f825-4171-8a54-4f80273a1988"
      },
      "execution_count": 29,
      "outputs": [
        {
          "output_type": "execute_result",
          "data": {
            "text/plain": [
              "-3"
            ]
          },
          "metadata": {},
          "execution_count": 29
        }
      ]
    },
    {
      "cell_type": "code",
      "source": [
        "if x1 < x2:\n",
        "  x4 = x1\n",
        "else:\n",
        "  x4 = x2\n",
        "x4"
      ],
      "metadata": {
        "colab": {
          "base_uri": "https://localhost:8080/"
        },
        "id": "OYmDsdVkx-Np",
        "outputId": "907770bb-db10-4f54-d551-7219e00d217f"
      },
      "execution_count": 36,
      "outputs": [
        {
          "output_type": "execute_result",
          "data": {
            "text/plain": [
              "2"
            ]
          },
          "metadata": {},
          "execution_count": 36
        }
      ]
    },
    {
      "cell_type": "code",
      "source": [
        "x5 = x4 + x3\n",
        "x5"
      ],
      "metadata": {
        "colab": {
          "base_uri": "https://localhost:8080/"
        },
        "id": "eU_iqfJ1yly2",
        "outputId": "730dc8d0-59bb-41d7-b925-06897800052e"
      },
      "execution_count": 37,
      "outputs": [
        {
          "output_type": "execute_result",
          "data": {
            "text/plain": [
              "-1"
            ]
          },
          "metadata": {},
          "execution_count": 37
        }
      ]
    },
    {
      "cell_type": "code",
      "source": [
        "x1 == x2"
      ],
      "metadata": {
        "colab": {
          "base_uri": "https://localhost:8080/"
        },
        "id": "y_x7SFDzywh9",
        "outputId": "166db589-9bd3-4c19-bde0-1c18b909024f"
      },
      "execution_count": 38,
      "outputs": [
        {
          "output_type": "execute_result",
          "data": {
            "text/plain": [
              "False"
            ]
          },
          "metadata": {},
          "execution_count": 38
        }
      ]
    }
  ]
}